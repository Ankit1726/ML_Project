{
 "cells": [
  {
   "cell_type": "markdown",
   "id": "02bdf5b3-28e0-4d41-9efd-5718f662185c",
   "metadata": {},
   "source": [
    "#### Streamlit with Python"
   ]
  },
  {
   "cell_type": "code",
   "execution_count": 2,
   "id": "b0fdade7-707b-49a6-82e8-0cf2f91e1b0f",
   "metadata": {},
   "outputs": [
    {
     "data": {
      "text/plain": [
       "'Streamlit is an open-source app framework for Machine Learning and Data Science projects.\\nIt allows you to create beautiful web applications for your machine learning and data science projects with simple Python scripts.'"
      ]
     },
     "execution_count": 2,
     "metadata": {},
     "output_type": "execute_result"
    }
   ],
   "source": [
    "'''Streamlit is an open-source app framework for Machine Learning and Data Science projects.\n",
    "It allows you to create beautiful web applications for your machine learning and data science projects with simple Python scripts.'''"
   ]
  }
 ],
 "metadata": {
  "kernelspec": {
   "display_name": "Python 3 (ipykernel)",
   "language": "python",
   "name": "python3"
  },
  "language_info": {
   "codemirror_mode": {
    "name": "ipython",
    "version": 3
   },
   "file_extension": ".py",
   "mimetype": "text/x-python",
   "name": "python",
   "nbconvert_exporter": "python",
   "pygments_lexer": "ipython3",
   "version": "3.12.7"
  }
 },
 "nbformat": 4,
 "nbformat_minor": 5
}
